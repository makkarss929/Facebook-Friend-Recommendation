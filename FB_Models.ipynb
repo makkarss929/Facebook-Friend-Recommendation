{
 "cells": [
  {
   "cell_type": "markdown",
   "metadata": {
    "colab_type": "text",
    "id": "naWvqMEMHglO"
   },
   "source": [
    "<p style=\"font-size:32px;text-align:center\"> <b>Social network Graph Link Prediction - Facebook Challenge</b> </p>"
   ]
  },
  {
   "cell_type": "code",
   "execution_count": 1,
   "metadata": {
    "colab": {},
    "colab_type": "code",
    "id": "9wb9N5RzHglP"
   },
   "outputs": [],
   "source": [
    "#Importing Libraries\n",
    "# please do go through this python notebook: \n",
    "import warnings\n",
    "warnings.filterwarnings(\"ignore\")\n",
    "\n",
    "import csv\n",
    "import pandas as pd#pandas to create small dataframes \n",
    "import datetime #Convert to unix time\n",
    "import time #Convert to unix time\n",
    "# if numpy is not installed already : pip3 install numpy\n",
    "import numpy as np#Do aritmetic operations on arrays\n",
    "# matplotlib: used to plot graphs\n",
    "import matplotlib\n",
    "import matplotlib.pylab as plt\n",
    "import seaborn as sns#Plots\n",
    "from matplotlib import rcParams#Size of plots  \n",
    "from sklearn.cluster import MiniBatchKMeans, KMeans#Clustering\n",
    "import math\n",
    "import pickle\n",
    "import os\n",
    "# to install xgboost: pip3 install xgboost\n",
    "import xgboost as xgb\n",
    "\n",
    "import warnings\n",
    "import networkx as nx\n",
    "import pdb\n",
    "import pickle\n",
    "from pandas import HDFStore,DataFrame\n",
    "from pandas import read_hdf\n",
    "from scipy.sparse.linalg import svds, eigs\n",
    "import gc\n",
    "from tqdm import tqdm\n",
    "from sklearn.ensemble import RandomForestClassifier\n",
    "from sklearn.metrics import f1_score"
   ]
  },
  {
   "cell_type": "code",
   "execution_count": 2,
   "metadata": {
    "colab": {},
    "colab_type": "code",
    "id": "XC4OJFKkHglU"
   },
   "outputs": [],
   "source": [
    "#reading\n",
    "from pandas import read_hdf\n",
    "df_final_train = read_hdf('data/fea_sample/storage_sample_stage5.h5', 'train_df',mode='r')\n",
    "df_final_test = read_hdf('data/fea_sample/storage_sample_stage5.h5', 'test_df',mode='r')"
   ]
  },
  {
   "cell_type": "code",
   "execution_count": 3,
   "metadata": {
    "colab": {},
    "colab_type": "code",
    "id": "5Gm-BHRkHglW",
    "outputId": "d2c2294c-113e-4fdb-d3e5-dc167dcf5fbc",
    "scrolled": true
   },
   "outputs": [
    {
     "data": {
      "text/plain": [
       "Index(['source_node', 'destination_node', 'indicator_link',\n",
       "       'jaccard_followers', 'jaccard_followees', 'cosine_followers',\n",
       "       'cosine_followees', 'num_followers_s', 'num_followees_s',\n",
       "       'num_followees_d', 'inter_followers', 'inter_followees', 'adar_index',\n",
       "       'follows_back', 'same_comp', 'shortest_path', 'weight_in', 'weight_out',\n",
       "       'weight_f1', 'weight_f2', 'weight_f3', 'weight_f4', 'page_rank_s',\n",
       "       'page_rank_d', 'katz_s', 'katz_d', 'hubs_s', 'hubs_d', 'authorities_s',\n",
       "       'authorities_d', 'svd_u_s_1', 'svd_u_s_2', 'svd_u_s_3', 'svd_u_s_4',\n",
       "       'svd_u_s_5', 'svd_u_s_6', 'svd_u_d_1', 'svd_u_d_2', 'svd_u_d_3',\n",
       "       'svd_u_d_4', 'svd_u_d_5', 'svd_u_d_6', 'svd_v_s_1', 'svd_v_s_2',\n",
       "       'svd_v_s_3', 'svd_v_s_4', 'svd_v_s_5', 'svd_v_s_6', 'svd_v_d_1',\n",
       "       'svd_v_d_2', 'svd_v_d_3', 'svd_v_d_4', 'svd_v_d_5', 'svd_v_d_6',\n",
       "       'preferential_followers', 'preferential_followees', 'svd_u_s_d',\n",
       "       'svd_v_s_d'],\n",
       "      dtype='object')"
      ]
     },
     "execution_count": 3,
     "metadata": {},
     "output_type": "execute_result"
    }
   ],
   "source": [
    "df_final_train.columns"
   ]
  },
  {
   "cell_type": "code",
   "execution_count": 4,
   "metadata": {
    "scrolled": true
   },
   "outputs": [
    {
     "data": {
      "text/plain": [
       "(100002, 58)"
      ]
     },
     "execution_count": 4,
     "metadata": {},
     "output_type": "execute_result"
    }
   ],
   "source": [
    "df_final_train.shape"
   ]
  },
  {
   "cell_type": "code",
   "execution_count": 5,
   "metadata": {},
   "outputs": [
    {
     "data": {
      "text/plain": [
       "(50002, 58)"
      ]
     },
     "execution_count": 5,
     "metadata": {},
     "output_type": "execute_result"
    }
   ],
   "source": [
    "df_final_test.shape"
   ]
  },
  {
   "cell_type": "code",
   "execution_count": 6,
   "metadata": {
    "colab": {},
    "colab_type": "code",
    "id": "XRW7VZ4AHglc"
   },
   "outputs": [],
   "source": [
    "y_train = df_final_train.indicator_link\n",
    "y_test = df_final_test.indicator_link"
   ]
  },
  {
   "cell_type": "code",
   "execution_count": 7,
   "metadata": {
    "colab": {},
    "colab_type": "code",
    "id": "4lj9M_qtHglf"
   },
   "outputs": [],
   "source": [
    "df_final_train.drop(['source_node', 'destination_node','indicator_link'],axis=1,inplace=True)\n",
    "df_final_test.drop(['source_node', 'destination_node','indicator_link'],axis=1,inplace=True)"
   ]
  },
  {
   "cell_type": "code",
   "execution_count": 8,
   "metadata": {
    "colab": {},
    "colab_type": "code",
    "id": "lIEc91uVHgli",
    "outputId": "31f04b72-ebe5-4b13-ccca-a5ae3bc4f09c"
   },
   "outputs": [
    {
     "name": "stdout",
     "output_type": "stream",
     "text": [
      "Estimators =  10 Train Score 0.9226747213831893 test Score 0.8976290810028519\n",
      "Estimators =  50 Train Score 0.9205656061551258 test Score 0.9000105853710172\n",
      "Estimators =  100 Train Score 0.9203837632206011 test Score 0.9153963894072505\n",
      "Estimators =  250 Train Score 0.9205678358841313 test Score 0.9126609984005387\n",
      "Estimators =  450 Train Score 0.9212907274724126 test Score 0.9134706414490986\n"
     ]
    },
    {
     "data": {
      "text/plain": [
       "Text(0.5, 1.0, 'Estimators vs score at depth of 5')"
      ]
     },
     "execution_count": 8,
     "metadata": {},
     "output_type": "execute_result"
    },
    {
     "data": {
      "image/png": "[encoded data removed]",
      "text/plain": [
       "<Figure size 432x288 with 1 Axes>"
      ]
     },
     "metadata": {
      "needs_background": "light"
     },
     "output_type": "display_data"
    }
   ],
   "source": [
    "estimators = [10,50,100,250,450]\n",
    "train_scores = []\n",
    "test_scores = []\n",
    "for i in estimators:\n",
    "    clf = RandomForestClassifier(bootstrap=True, class_weight=None, criterion='gini',\n",
    "            max_depth=5, max_features='auto', max_leaf_nodes=None,\n",
    "            min_impurity_decrease=0.0, min_impurity_split=None,\n",
    "            min_samples_leaf=52, min_samples_split=120,\n",
    "            min_weight_fraction_leaf=0.0, n_estimators=i, n_jobs=-1,random_state=25,verbose=0,warm_start=False)\n",
    "    clf.fit(df_final_train,y_train)\n",
    "    train_sc = f1_score(y_train,clf.predict(df_final_train))\n",
    "    test_sc = f1_score(y_test,clf.predict(df_final_test))\n",
    "    test_scores.append(test_sc)\n",
    "    train_scores.append(train_sc)\n",
    "    print('Estimators = ',i,'Train Score',train_sc,'test Score',test_sc)\n",
    "plt.plot(estimators,train_scores,label='Train Score')\n",
    "plt.plot(estimators,test_scores,label='Test Score')\n",
    "plt.xlabel('Estimators')\n",
    "plt.ylabel('Score')\n",
    "plt.title('Estimators vs score at depth of 5')"
   ]
  },
  {
   "cell_type": "code",
   "execution_count": 9,
   "metadata": {
    "colab": {},
    "colab_type": "code",
    "id": "nZxhrTdQHglm",
    "outputId": "53382b8e-148d-4c22-8066-d9807fb27012"
   },
   "outputs": [
    {
     "name": "stdout",
     "output_type": "stream",
     "text": [
      "depth =  3 Train Score 0.9112869034693138 test Score 0.8930326319768175\n",
      "depth =  9 Train Score 0.9547740748313228 test Score 0.9228531067490355\n",
      "depth =  11 Train Score 0.9608566305322357 test Score 0.9254845717419274\n",
      "depth =  15 Train Score 0.9634606197973309 test Score 0.9237302459224203\n",
      "depth =  20 Train Score 0.9631782748772779 test Score 0.9260180423235815\n",
      "depth =  35 Train Score 0.9632782422315452 test Score 0.9263113545397094\n",
      "depth =  50 Train Score 0.9632782422315452 test Score 0.9263113545397094\n",
      "depth =  70 Train Score 0.9632782422315452 test Score 0.9263113545397094\n",
      "depth =  130 Train Score 0.9632782422315452 test Score 0.9263113545397094\n"
     ]
    },
    {
     "data": {
      "image/png": "[encoded data removed]",
      "text/plain": [
       "<Figure size 432x288 with 1 Axes>"
      ]
     },
     "metadata": {
      "needs_background": "light"
     },
     "output_type": "display_data"
    }
   ],
   "source": [
    "depths = [3,9,11,15,20,35,50,70,130]\n",
    "train_scores = []\n",
    "test_scores = []\n",
    "for i in depths:\n",
    "    clf = RandomForestClassifier(bootstrap=True, class_weight=None, criterion='gini',\n",
    "            max_depth=i, max_features='auto', max_leaf_nodes=None,\n",
    "            min_impurity_decrease=0.0, min_impurity_split=None,\n",
    "            min_samples_leaf=52, min_samples_split=120,\n",
    "            min_weight_fraction_leaf=0.0, n_estimators=115, n_jobs=-1,random_state=25,verbose=0,warm_start=False)\n",
    "    clf.fit(df_final_train,y_train)\n",
    "    train_sc = f1_score(y_train,clf.predict(df_final_train))\n",
    "    test_sc = f1_score(y_test,clf.predict(df_final_test))\n",
    "    test_scores.append(test_sc)\n",
    "    train_scores.append(train_sc)\n",
    "    print('depth = ',i,'Train Score',train_sc,'test Score',test_sc)\n",
    "plt.plot(depths,train_scores,label='Train Score')\n",
    "plt.plot(depths,test_scores,label='Test Score')\n",
    "plt.xlabel('Depth')\n",
    "plt.ylabel('Score')\n",
    "plt.title('Depth vs score at depth of 5 at estimators = 115')\n",
    "plt.show()"
   ]
  },
  {
   "cell_type": "code",
   "execution_count": 10,
   "metadata": {
    "colab": {},
    "colab_type": "code",
    "id": "MrG1Lfl3Hglq",
    "outputId": "7b6e3c97-8d66-455d-cd79-213f824719cc"
   },
   "outputs": [
    {
     "name": "stdout",
     "output_type": "stream",
     "text": [
      "mean test scores [0.96184197 0.96192274 0.96056841 0.96174987 0.96282695]\n",
      "mean train scores [0.96281202 0.96275485 0.96102106 0.96268281 0.96406839]\n"
     ]
    }
   ],
   "source": [
    "from sklearn.metrics import f1_score\n",
    "from sklearn.ensemble import RandomForestClassifier\n",
    "from sklearn.metrics import f1_score\n",
    "from sklearn.model_selection import RandomizedSearchCV\n",
    "from scipy.stats import randint as sp_randint\n",
    "from scipy.stats import uniform\n",
    "\n",
    "param_dist = {\"n_estimators\":sp_randint(105,125),\n",
    "              \"max_depth\": sp_randint(10,15),\n",
    "              \"min_samples_split\": sp_randint(110,190),\n",
    "              \"min_samples_leaf\": sp_randint(25,65)}\n",
    "\n",
    "clf = RandomForestClassifier(random_state=25,n_jobs=-1)\n",
    "\n",
    "rf_random = RandomizedSearchCV(clf, param_distributions=param_dist,\n",
    "                                   n_iter=5,cv=10,scoring='f1',random_state=25)\n",
    "\n",
    "rf_random.fit(df_final_train,y_train)\n",
    "print('mean test scores',rf_random.cv_results_['mean_test_score'])\n",
    "print('mean train scores',rf_random.cv_results_['mean_train_score'])"
   ]
  },
  {
   "cell_type": "code",
   "execution_count": 11,
   "metadata": {
    "colab": {},
    "colab_type": "code",
    "id": "hme3j_diHglu",
    "outputId": "581ccc02-7770-4a94-d003-257af4e81570"
   },
   "outputs": [
    {
     "name": "stdout",
     "output_type": "stream",
     "text": [
      "RandomForestClassifier(bootstrap=True, class_weight=None, criterion='gini',\n",
      "            max_depth=14, max_features='auto', max_leaf_nodes=None,\n",
      "            min_impurity_decrease=0.0, min_impurity_split=None,\n",
      "            min_samples_leaf=28, min_samples_split=111,\n",
      "            min_weight_fraction_leaf=0.0, n_estimators=121, n_jobs=-1,\n",
      "            oob_score=False, random_state=25, verbose=0, warm_start=False)\n"
     ]
    }
   ],
   "source": [
    "print(rf_random.best_estimator_)"
   ]
  },
  {
   "cell_type": "code",
   "execution_count": 12,
   "metadata": {
    "colab": {},
    "colab_type": "code",
    "id": "qu4KIEweHglx"
   },
   "outputs": [],
   "source": [
    "clf = RandomForestClassifier(bootstrap=True, class_weight=None, criterion='gini',\n",
    "            max_depth=14, max_features='auto', max_leaf_nodes=None,\n",
    "            min_impurity_decrease=0.0, min_impurity_split=None,\n",
    "            min_samples_leaf=28, min_samples_split=111,\n",
    "            min_weight_fraction_leaf=0.0, n_estimators=121, n_jobs=-1,\n",
    "            oob_score=False, random_state=25, verbose=0, warm_start=False)"
   ]
  },
  {
   "cell_type": "code",
   "execution_count": 13,
   "metadata": {
    "colab": {},
    "colab_type": "code",
    "id": "Dax83GfLHgl1"
   },
   "outputs": [],
   "source": [
    "clf.fit(df_final_train,y_train)\n",
    "y_train_pred = clf.predict(df_final_train)\n",
    "y_test_pred = clf.predict(df_final_test)"
   ]
  },
  {
   "cell_type": "code",
   "execution_count": 14,
   "metadata": {
    "colab": {},
    "colab_type": "code",
    "id": "PTtAp1iTHgl4",
    "outputId": "e2e3d725-3c4d-4374-d303-8f294b570977"
   },
   "outputs": [
    {
     "name": "stdout",
     "output_type": "stream",
     "text": [
      "Train f1 score 0.9641146622466723\n",
      "Test f1 score 0.9264938516378056\n"
     ]
    }
   ],
   "source": [
    "from sklearn.metrics import f1_score\n",
    "print('Train f1 score',f1_score(y_train,y_train_pred))\n",
    "print('Test f1 score',f1_score(y_test,y_test_pred))"
   ]
  },
  {
   "cell_type": "code",
   "execution_count": 15,
   "metadata": {
    "colab": {},
    "colab_type": "code",
    "id": "5XfUkZYQHgl7"
   },
   "outputs": [],
   "source": [
    "from sklearn.metrics import confusion_matrix\n",
    "def plot_confusion_matrix(test_y, predict_y):\n",
    "    C = confusion_matrix(test_y, predict_y)\n",
    "    \n",
    "    A =(((C.T)/(C.sum(axis=1))).T)\n",
    "    \n",
    "    B =(C/C.sum(axis=0))\n",
    "    plt.figure(figsize=(20,4))\n",
    "    \n",
    "    labels = [0,1]\n",
    "    # representing A in heatmap format\n",
    "    cmap=sns.light_palette(\"blue\")\n",
    "    plt.subplot(1, 3, 1)\n",
    "    sns.heatmap(C, annot=True, cmap=cmap, fmt=\".3f\", xticklabels=labels, yticklabels=labels)\n",
    "    plt.xlabel('Predicted Class')\n",
    "    plt.ylabel('Original Class')\n",
    "    plt.title(\"Confusion matrix\")\n",
    "    \n",
    "    plt.subplot(1, 3, 2)\n",
    "    sns.heatmap(B, annot=True, cmap=cmap, fmt=\".3f\", xticklabels=labels, yticklabels=labels)\n",
    "    plt.xlabel('Predicted Class')\n",
    "    plt.ylabel('Original Class')\n",
    "    plt.title(\"Precision matrix\")\n",
    "    \n",
    "    plt.subplot(1, 3, 3)\n",
    "    # representing B in heatmap format\n",
    "    sns.heatmap(A, annot=True, cmap=cmap, fmt=\".3f\", xticklabels=labels, yticklabels=labels)\n",
    "    plt.xlabel('Predicted Class')\n",
    "    plt.ylabel('Original Class')\n",
    "    plt.title(\"Recall matrix\")\n",
    "    \n",
    "    plt.show()"
   ]
  },
  {
   "cell_type": "code",
   "execution_count": 16,
   "metadata": {
    "colab": {},
    "colab_type": "code",
    "id": "s6t11dhTHgl-",
    "outputId": "189de3be-1c99-4653-f56f-12b18b0f4db7"
   },
   "outputs": [
    {
     "name": "stdout",
     "output_type": "stream",
     "text": [
      "Train confusion_matrix\n"
     ]
    },
    {
     "data": {
      "image/png": "[encoded data removed]",
      "text/plain": [
       "<Figure size 1440x288 with 6 Axes>"
      ]
     },
     "metadata": {
      "needs_background": "light"
     },
     "output_type": "display_data"
    },
    {
     "name": "stdout",
     "output_type": "stream",
     "text": [
      "Test confusion_matrix\n"
     ]
    },
    {
     "data": {
      "image/png": "[encoded data removed]",
      "text/plain": [
       "<Figure size 1440x288 with 6 Axes>"
      ]
     },
     "metadata": {
      "needs_background": "light"
     },
     "output_type": "display_data"
    }
   ],
   "source": [
    "print('Train confusion_matrix')\n",
    "plot_confusion_matrix(y_train,y_train_pred)\n",
    "print('Test confusion_matrix')\n",
    "plot_confusion_matrix(y_test,y_test_pred)"
   ]
  },
  {
   "cell_type": "code",
   "execution_count": 17,
   "metadata": {
    "colab": {},
    "colab_type": "code",
    "id": "61TF-VLeHgmD",
    "outputId": "795f1b39-61c7-470f-e2d0-1fe6dc7ac5fd"
   },
   "outputs": [
    {
     "data": {
      "image/png": "[encoded data removed]",
      "text/plain": [
       "<Figure size 432x288 with 1 Axes>"
      ]
     },
     "metadata": {
      "needs_background": "light"
     },
     "output_type": "display_data"
    }
   ],
   "source": [
    "from sklearn.metrics import roc_curve, auc\n",
    "fpr,tpr,ths = roc_curve(y_test,y_test_pred)\n",
    "auc_sc = auc(fpr, tpr)\n",
    "plt.plot(fpr, tpr, color='navy',label='ROC curve (area = %0.2f)' % auc_sc)\n",
    "plt.xlabel('False Positive Rate')\n",
    "plt.ylabel('True Positive Rate')\n",
    "plt.title('Receiver operating characteristic with test data')\n",
    "plt.legend()\n",
    "plt.show()"
   ]
  },
  {
   "cell_type": "code",
   "execution_count": 18,
   "metadata": {
    "colab": {},
    "colab_type": "code",
    "id": "HEZ7uvN6HgmK",
    "outputId": "6f762256-54fc-4e2f-865b-22342033eb2c",
    "scrolled": false
   },
   "outputs": [
    {
     "data": {
      "image/png": "[encoded data removed]",
      "text/plain": [
       "<Figure size 720x864 with 1 Axes>"
      ]
     },
     "metadata": {
      "needs_background": "light"
     },
     "output_type": "display_data"
    }
   ],
   "source": [
    "features = df_final_train.columns\n",
    "importances = clf.feature_importances_\n",
    "indices = (np.argsort(importances))[-25:]\n",
    "plt.figure(figsize=(10,12))\n",
    "plt.title('Feature Importances')\n",
    "plt.barh(range(len(indices)), importances[indices], color='r', align='center')\n",
    "plt.yticks(range(len(indices)), [features[i] for i in indices])\n",
    "plt.xlabel('Relative Importance')\n",
    "plt.show()"
   ]
  },
  {
   "cell_type": "code",
   "execution_count": 19,
   "metadata": {},
   "outputs": [
    {
     "name": "stdout",
     "output_type": "stream",
     "text": [
      "Fitting 4 folds for each of 10 candidates, totalling 40 fits\n"
     ]
    },
    {
     "name": "stderr",
     "output_type": "stream",
     "text": [
      "[Parallel(n_jobs=4)]: Using backend LokyBackend with 4 concurrent workers.\n",
      "[Parallel(n_jobs=4)]: Done   1 tasks      | elapsed:   42.5s\n",
      "C:\\Users\\Tarun Makkar\\Anaconda3\\lib\\site-packages\\sklearn\\externals\\joblib\\externals\\loky\\process_executor.py:706: UserWarning: A worker stopped while some jobs were given to the executor. This can be caused by a too short worker timeout or by a memory leak.\n",
      "  \"timeout or by a memory leak.\", UserWarning\n",
      "[Parallel(n_jobs=4)]: Done   2 tasks      | elapsed:   42.9s\n",
      "C:\\Users\\Tarun Makkar\\Anaconda3\\lib\\site-packages\\sklearn\\externals\\joblib\\externals\\loky\\process_executor.py:706: UserWarning: A worker stopped while some jobs were given to the executor. This can be caused by a too short worker timeout or by a memory leak.\n",
      "  \"timeout or by a memory leak.\", UserWarning\n",
      "[Parallel(n_jobs=4)]: Done   3 tasks      | elapsed:   43.2s\n",
      "C:\\Users\\Tarun Makkar\\Anaconda3\\lib\\site-packages\\sklearn\\externals\\joblib\\externals\\loky\\process_executor.py:706: UserWarning: A worker stopped while some jobs were given to the executor. This can be caused by a too short worker timeout or by a memory leak.\n",
      "  \"timeout or by a memory leak.\", UserWarning\n",
      "[Parallel(n_jobs=4)]: Done   4 tasks      | elapsed:   43.6s\n",
      "C:\\Users\\Tarun Makkar\\Anaconda3\\lib\\site-packages\\sklearn\\externals\\joblib\\externals\\loky\\process_executor.py:706: UserWarning: A worker stopped while some jobs were given to the executor. This can be caused by a too short worker timeout or by a memory leak.\n",
      "  \"timeout or by a memory leak.\", UserWarning\n",
      "[Parallel(n_jobs=4)]: Done   5 tasks      | elapsed:  2.4min\n",
      "[Parallel(n_jobs=4)]: Done   6 tasks      | elapsed:  2.4min\n",
      "[Parallel(n_jobs=4)]: Done   7 tasks      | elapsed:  2.4min\n",
      "[Parallel(n_jobs=4)]: Done   8 tasks      | elapsed:  2.4min\n",
      "[Parallel(n_jobs=4)]: Done   9 tasks      | elapsed:  3.6min\n",
      "[Parallel(n_jobs=4)]: Done  10 tasks      | elapsed:  3.6min\n",
      "[Parallel(n_jobs=4)]: Done  11 tasks      | elapsed:  3.6min\n",
      "[Parallel(n_jobs=4)]: Done  12 tasks      | elapsed:  3.6min\n",
      "[Parallel(n_jobs=4)]: Done  13 tasks      | elapsed:  4.6min\n",
      "[Parallel(n_jobs=4)]: Done  14 tasks      | elapsed:  4.6min\n",
      "[Parallel(n_jobs=4)]: Done  15 tasks      | elapsed:  4.6min\n",
      "[Parallel(n_jobs=4)]: Done  16 tasks      | elapsed:  4.6min\n",
      "[Parallel(n_jobs=4)]: Done  17 tasks      | elapsed:  5.1min\n",
      "[Parallel(n_jobs=4)]: Done  18 tasks      | elapsed:  5.1min\n",
      "[Parallel(n_jobs=4)]: Done  19 tasks      | elapsed:  5.1min\n",
      "[Parallel(n_jobs=4)]: Done  20 tasks      | elapsed:  5.2min\n",
      "[Parallel(n_jobs=4)]: Done  21 tasks      | elapsed:  6.4min\n",
      "[Parallel(n_jobs=4)]: Done  22 tasks      | elapsed:  6.4min\n",
      "[Parallel(n_jobs=4)]: Done  23 tasks      | elapsed:  6.4min\n",
      "[Parallel(n_jobs=4)]: Done  24 tasks      | elapsed:  6.4min\n",
      "[Parallel(n_jobs=4)]: Done  25 tasks      | elapsed:  7.1min\n",
      "[Parallel(n_jobs=4)]: Done  26 tasks      | elapsed:  7.1min\n",
      "[Parallel(n_jobs=4)]: Done  27 tasks      | elapsed:  7.1min\n",
      "[Parallel(n_jobs=4)]: Done  28 tasks      | elapsed:  7.1min\n",
      "[Parallel(n_jobs=4)]: Done  29 tasks      | elapsed:  7.9min\n",
      "[Parallel(n_jobs=4)]: Done  30 tasks      | elapsed:  7.9min\n",
      "[Parallel(n_jobs=4)]: Done  31 tasks      | elapsed:  7.9min\n",
      "[Parallel(n_jobs=4)]: Done  32 tasks      | elapsed:  8.0min\n",
      "[Parallel(n_jobs=4)]: Done  33 tasks      | elapsed:  9.4min\n",
      "[Parallel(n_jobs=4)]: Done  35 out of  40 | elapsed:  9.4min remaining:  1.3min\n",
      "[Parallel(n_jobs=4)]: Done  37 out of  40 | elapsed: 10.2min remaining:   49.5s\n",
      "[Parallel(n_jobs=4)]: Done  40 out of  40 | elapsed: 10.2min finished\n"
     ]
    },
    {
     "data": {
      "text/plain": [
       "RandomizedSearchCV(cv=4, error_score='raise-deprecating',\n",
       "          estimator=XGBClassifier(base_score=0.5, booster='gbtree', colsample_bylevel=1,\n",
       "       colsample_bynode=1, colsample_bytree=1, eval_metric='error',\n",
       "       gamma=0, learning_rate=0.1, max_delta_step=0, max_depth=3,\n",
       "       min_child_weight=1, missing=None, n_estimators=100, n_jobs=1,\n",
       "       nthread=None, objective='binary:logistic', random_state=12,\n",
       "       reg_alpha=0, reg_lambda=1, scale_pos_weight=1, seed=None,\n",
       "       silent=None, subsample=1, verbosity=1),\n",
       "          fit_params=None, iid='warn', n_iter=10, n_jobs=4,\n",
       "          param_distributions={'max_depth': [3, 4, 5, 6, 8, 10, 12, 15], 'min_child_weight': [1, 3, 5, 7]},\n",
       "          pre_dispatch='2*n_jobs', random_state=12, refit=True,\n",
       "          return_train_score='warn', scoring='f1', verbose=22)"
      ]
     },
     "execution_count": 19,
     "metadata": {},
     "output_type": "execute_result"
    }
   ],
   "source": [
    "import xgboost as xgb\n",
    "from sklearn.model_selection import RandomizedSearchCV\n",
    "\n",
    "params = {\n",
    "    'max_depth' : [3,4,5,6,8,10,12,15],\n",
    "    'min_child_weight' : [1,3,5,7]\n",
    "}\n",
    "estimator1 = xgb.XGBClassifier(objective = 'binary:logistic',\n",
    "eval_metric = 'error',scale_pos_weight = 1,random_state = 12)\n",
    "Research1 = RandomizedSearchCV(estimator1,param_distributions = params,cv=4,n_jobs=4, scoring = 'f1',verbose = 22, random_state = 12)\n",
    "Research1.fit(df_final_train,y_train)"
   ]
  },
  {
   "cell_type": "code",
   "execution_count": 20,
   "metadata": {},
   "outputs": [
    {
     "name": "stdout",
     "output_type": "stream",
     "text": [
      "min_child_weight 1\n",
      "max_depth 12\n",
      "best f1_score 0.9798530515653893\n"
     ]
    }
   ],
   "source": [
    "print('min_child_weight',Research1.best_params_['min_child_weight'])\n",
    "print('max_depth',Research1.best_params_['max_depth'])\n",
    "print('best f1_score',Research1.best_score_)"
   ]
  },
  {
   "cell_type": "code",
   "execution_count": 21,
   "metadata": {},
   "outputs": [],
   "source": [
    "w=Research1.best_params_[\"min_child_weight\"]\n",
    "d=Research1.best_params_['max_depth']"
   ]
  },
  {
   "cell_type": "code",
   "execution_count": 22,
   "metadata": {
    "scrolled": false
   },
   "outputs": [
    {
     "name": "stdout",
     "output_type": "stream",
     "text": [
      "Fitting 4 folds for each of 10 candidates, totalling 40 fits\n"
     ]
    },
    {
     "name": "stderr",
     "output_type": "stream",
     "text": [
      "[Parallel(n_jobs=4)]: Using backend LokyBackend with 4 concurrent workers.\n",
      "[Parallel(n_jobs=4)]: Done   1 tasks      | elapsed:   47.8s\n",
      "[Parallel(n_jobs=4)]: Done   2 tasks      | elapsed:   47.9s\n",
      "[Parallel(n_jobs=4)]: Done   3 tasks      | elapsed:   48.2s\n",
      "[Parallel(n_jobs=4)]: Done   4 tasks      | elapsed:   48.9s\n",
      "[Parallel(n_jobs=4)]: Done   5 tasks      | elapsed:  1.7min\n",
      "[Parallel(n_jobs=4)]: Done   6 tasks      | elapsed:  1.7min\n",
      "[Parallel(n_jobs=4)]: Done   7 tasks      | elapsed:  1.7min\n",
      "[Parallel(n_jobs=4)]: Done   8 tasks      | elapsed:  1.7min\n",
      "[Parallel(n_jobs=4)]: Done   9 tasks      | elapsed:  3.0min\n",
      "[Parallel(n_jobs=4)]: Done  10 tasks      | elapsed:  3.0min\n",
      "[Parallel(n_jobs=4)]: Done  11 tasks      | elapsed:  3.0min\n",
      "[Parallel(n_jobs=4)]: Done  12 tasks      | elapsed:  3.0min\n",
      "[Parallel(n_jobs=4)]: Done  13 tasks      | elapsed:  4.1min\n",
      "[Parallel(n_jobs=4)]: Done  14 tasks      | elapsed:  4.1min\n",
      "[Parallel(n_jobs=4)]: Done  15 tasks      | elapsed:  4.1min\n",
      "[Parallel(n_jobs=4)]: Done  16 tasks      | elapsed:  4.1min\n",
      "[Parallel(n_jobs=4)]: Done  17 tasks      | elapsed:  4.9min\n",
      "[Parallel(n_jobs=4)]: Done  18 tasks      | elapsed:  4.9min\n",
      "[Parallel(n_jobs=4)]: Done  19 tasks      | elapsed:  4.9min\n",
      "[Parallel(n_jobs=4)]: Done  20 tasks      | elapsed:  4.9min\n",
      "[Parallel(n_jobs=4)]: Done  21 tasks      | elapsed:  6.2min\n",
      "[Parallel(n_jobs=4)]: Done  22 tasks      | elapsed:  6.2min\n",
      "[Parallel(n_jobs=4)]: Done  23 tasks      | elapsed:  6.2min\n",
      "[Parallel(n_jobs=4)]: Done  24 tasks      | elapsed:  6.2min\n",
      "[Parallel(n_jobs=4)]: Done  25 tasks      | elapsed:  7.5min\n",
      "[Parallel(n_jobs=4)]: Done  26 tasks      | elapsed:  7.5min\n",
      "[Parallel(n_jobs=4)]: Done  27 tasks      | elapsed:  7.5min\n",
      "[Parallel(n_jobs=4)]: Done  28 tasks      | elapsed:  7.5min\n",
      "[Parallel(n_jobs=4)]: Done  29 tasks      | elapsed:  8.4min\n",
      "[Parallel(n_jobs=4)]: Done  30 tasks      | elapsed:  8.4min\n",
      "[Parallel(n_jobs=4)]: Done  31 tasks      | elapsed:  8.4min\n",
      "[Parallel(n_jobs=4)]: Done  32 tasks      | elapsed:  8.4min\n",
      "[Parallel(n_jobs=4)]: Done  33 tasks      | elapsed:  9.2min\n",
      "[Parallel(n_jobs=4)]: Done  35 out of  40 | elapsed:  9.2min remaining:  1.3min\n",
      "[Parallel(n_jobs=4)]: Done  37 out of  40 | elapsed: 10.2min remaining:   49.8s\n",
      "[Parallel(n_jobs=4)]: Done  40 out of  40 | elapsed: 10.3min finished\n"
     ]
    },
    {
     "data": {
      "text/plain": [
       "RandomizedSearchCV(cv=4, error_score='raise-deprecating',\n",
       "          estimator=XGBClassifier(base_score=0.5, booster='gbtree', colsample_bylevel=1,\n",
       "       colsample_bynode=1, colsample_bytree=1, eval_metric='error',\n",
       "       gamma=0, learning_rate=0.1, max_delta_step=0, max_depth=12,\n",
       "       min_child_weight=1, missing=None, n_estimators=100, n_jobs=1,\n",
       "       nthread=None, objective='binary:logistic', random_state=21,\n",
       "       reg_alpha=0, reg_lambda=1, scale_pos_weight=1, seed=None,\n",
       "       silent=None, subsample=1, verbosity=1),\n",
       "          fit_params=None, iid=False, n_iter=10, n_jobs=4,\n",
       "          param_distributions={'colsample_bytree': [0.3, 0.4, 0.5, 0.7, 0.9], 'subsample': [0.75, 0.8, 0.85, 0.9]},\n",
       "          pre_dispatch='2*n_jobs', random_state=21, refit=True,\n",
       "          return_train_score='warn', scoring='f1', verbose=21)"
      ]
     },
     "execution_count": 22,
     "metadata": {},
     "output_type": "execute_result"
    }
   ],
   "source": [
    "import xgboost as xgb\n",
    "from sklearn.model_selection import RandomizedSearchCV\n",
    "\n",
    "params={\n",
    "\n",
    " \"colsample_bytree\"        : [0.3, 0.4, 0.5 , 0.7 ,0.9],\n",
    " 'subsample'               :[0.75,0.80,0.85,0.90],\n",
    " \n",
    "  }\n",
    "estimator2 =xgb.XGBClassifier(objective= 'binary:logistic',\n",
    "eval_metric= 'error',scale_pos_weight = 1,random_state=21,min_child_weight = w,max_depth = d)\n",
    "Rsearch2= RandomizedSearchCV(estimator2,param_distributions=params,scoring='f1',n_jobs=4,iid=False, cv=4,verbose=21,random_state=21)\n",
    "Rsearch2.fit(df_final_train,y_train)"
   ]
  },
  {
   "cell_type": "code",
   "execution_count": 23,
   "metadata": {},
   "outputs": [
    {
     "name": "stdout",
     "output_type": "stream",
     "text": [
      "colsample_bytree 0.7\n",
      "subsample 0.8\n",
      "best f1_score 0.9803207033186153\n"
     ]
    }
   ],
   "source": [
    "print('colsample_bytree',Rsearch2.best_params_['colsample_bytree'])\n",
    "print('subsample',Rsearch2.best_params_['subsample'])\n",
    "print('best f1_score',Rsearch2.best_score_)"
   ]
  },
  {
   "cell_type": "code",
   "execution_count": 24,
   "metadata": {},
   "outputs": [],
   "source": [
    "c=Rsearch2.best_params_[\"colsample_bytree\"]\n",
    "s=Rsearch2.best_params_['subsample']"
   ]
  },
  {
   "cell_type": "markdown",
   "metadata": {},
   "source": [
    "### Training with best hyperparameters"
   ]
  },
  {
   "cell_type": "code",
   "execution_count": 25,
   "metadata": {
    "scrolled": true
   },
   "outputs": [
    {
     "name": "stdout",
     "output_type": "stream",
     "text": [
      "[0]\ttrain-error:0.027099\tvalid-error:0.067977\n",
      "Multiple eval metrics have been passed: 'valid-error' will be used for early stopping.\n",
      "\n",
      "Will train until valid-error hasn't improved in 20 rounds.\n",
      "[10]\ttrain-error:0.01899\tvalid-error:0.064097\n",
      "[20]\ttrain-error:0.01915\tvalid-error:0.064237\n",
      "Stopping. Best iteration:\n",
      "[4]\ttrain-error:0.02019\tvalid-error:0.062897\n",
      "\n"
     ]
    }
   ],
   "source": [
    "import xgboost as xgb\n",
    "params = {}\n",
    "params['objective'] = 'binary:logistic'\n",
    "params['eval_metric'] = 'error'\n",
    "params['eta']= 0.02\n",
    "\n",
    "params['max_depth'] = d\n",
    "params['min_child_weight'] = w\n",
    "params['colsample_bytree'] = c\n",
    "params['subsample'] = s\n",
    "\n",
    "d_train = xgb.DMatrix(df_final_train,y_train)\n",
    "d_test = xgb.DMatrix(df_final_test,y_test)\n",
    "\n",
    "watchlist = [(d_train, 'train'), (d_test, 'valid')]\n",
    "\n",
    "bst = xgb.train(params, d_train, 400, watchlist, early_stopping_rounds=20, verbose_eval=10)\n",
    "\n",
    "xgdmat = xgb.DMatrix(df_final_train,y_train)\n",
    "predict_y = bst.predict(d_test)"
   ]
  },
  {
   "cell_type": "markdown",
   "metadata": {},
   "source": [
    "### OBSERVATION\n",
    "* f1_score is 0.98 and train-error is 0.02 and test-error is 0.06 .\n",
    "      * Best hyperparameters\n",
    "              *min_child_weight 1\n",
    "              *max_depth 12\n",
    "              *colsample_bytree 0.7\n",
    "              *subsample 0.8"
   ]
  }
 ],
 "metadata": {
  "colab": {
   "collapsed_sections": [],
   "name": "FB_Models.ipynb",
   "provenance": [],
   "version": "0.3.2"
  },
  "kernelspec": {
   "display_name": "Python 3",
   "language": "python",
   "name": "python3"
  },
  "language_info": {
   "codemirror_mode": {
    "name": "ipython",
    "version": 3
   },
   "file_extension": ".py",
   "mimetype": "text/x-python",
   "name": "python",
   "nbconvert_exporter": "python",
   "pygments_lexer": "ipython3",
   "version": "3.7.3"
  }
 },
 "nbformat": 4,
 "nbformat_minor": 1
}
